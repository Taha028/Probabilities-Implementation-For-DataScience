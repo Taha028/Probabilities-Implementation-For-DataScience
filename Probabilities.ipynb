{
 "cells": [
  {
   "cell_type": "markdown",
   "metadata": {},
   "source": [
    "# Classical Probability\n"
   ]
  },
  {
   "cell_type": "markdown",
   "metadata": {},
   "source": [
    "In this probability we know the outcome \n",
    "\n",
    "We are going to implement most Famous Example Of probabilty the Dice Game"
   ]
  },
  {
   "cell_type": "markdown",
   "metadata": {},
   "source": [
    "Let’s start with 101 of probability, the Dice Game. Here, we will play a dice game. So, lets create a six-sided die with equal probability of showing up and see what is the number we see when we roll the dice. We will use np.random.choice to simulate the results.\n",
    "\n"
   ]
  },
  {
   "cell_type": "markdown",
   "metadata": {},
   "source": [
    "# The Dice Game"
   ]
  },
  {
   "cell_type": "code",
   "execution_count": 24,
   "metadata": {},
   "outputs": [
    {
     "data": {
      "text/plain": [
       "5"
      ]
     },
     "execution_count": 24,
     "metadata": {},
     "output_type": "execute_result"
    }
   ],
   "source": [
    "import numpy as np\n",
    "import pandas as pd\n",
    "#seed is used for seeing probabilty from only one side as we have one throw so we used seed to save our outcome\n",
    "np.random.seed(123)\n",
    "die,probabilties,throws=[1,2,3,4,5,6],[1/6,1/6,1/6,1/6,1/6,1/6],1\n",
    "outcome=np.random.choice(die,size=throws,p=probabilties)\n",
    "outcome[0]"
   ]
  },
  {
   "cell_type": "markdown",
   "metadata": {},
   "source": [
    "Now, let’s consider different type of dice game with two random variables where we win if two dice show the same numbers. Again, both the dice are fair with all the numbers having same probability of showing up.\n",
    "\n"
   ]
  },
  {
   "cell_type": "code",
   "execution_count": 25,
   "metadata": {},
   "outputs": [
    {
     "name": "stdout",
     "output_type": "stream",
     "text": [
      "You Lose\n"
     ]
    }
   ],
   "source": [
    "np.random.seed(123)\n",
    "die,prob,throw=[1,2,3,4,5,6],[1/6,1/6,1/6,1/6,1/6,1/6],2\n",
    "outcome=np.random.choice(die,size=throw,p=prob)\n",
    "if outcome[0]==outcome[1]:\n",
    "    print(\"You win\")\n",
    "else:\n",
    "    print(\"You Lose\")"
   ]
  },
  {
   "cell_type": "markdown",
   "metadata": {},
   "source": [
    "Here, we will do repeated random sampling, i.e throw the dice 100,000 times and see how many times we win and how many times we lose as simulating an outcome once doesn’t tell us much about how often we expect to see that outcome.\n",
    "\n"
   ]
  },
  {
   "cell_type": "code",
   "execution_count": 26,
   "metadata": {},
   "outputs": [],
   "source": [
    "np.random.seed(113)\n",
    "die,prob,throw=[1,2,3,4,5,6],[1/6,1/6,1/6,1/6,1/6,1/6],2\n",
    "win=0\n",
    "tries=100000\n",
    "for i in range(tries):\n",
    "    outcome=np.random.choice(die,size=throw,p=prob)\n",
    "    if outcome[0]==outcome[1]:\n",
    "        win+=1\n",
    "    "
   ]
  },
  {
   "cell_type": "code",
   "execution_count": 27,
   "metadata": {},
   "outputs": [
    {
     "data": {
      "text/plain": [
       "16602"
      ]
     },
     "execution_count": 27,
     "metadata": {},
     "output_type": "execute_result"
    }
   ],
   "source": [
    "win"
   ]
  },
  {
   "cell_type": "markdown",
   "metadata": {},
   "source": [
    "# The Game of Poker"
   ]
  },
  {
   "cell_type": "markdown",
   "metadata": {},
   "source": [
    "Here we are going to use counting possibilities which is very important concept in probabilities.\n",
    "\n",
    "Here we are using Sampling Without Replacement and it is also a dependent event as your cards are responsible for others"
   ]
  },
  {
   "cell_type": "markdown",
   "metadata": {},
   "source": [
    "\n",
    "\n",
    "card game is the game of chances and probabilities. Let’s simulate some probabilities in the game of poker, the game I am trying to learn. In the game below, we will create a poker game where each player is dealt five cards and the player with better hand wins. Let’s estimate probability of getting at least two of a kind, i.e. 2 cards of different suites but same numeric values (e.g. 2 of hearts, 2 of spades and 3 of other cards). I have already created a array called deck_of_cards basically created a deck of cards. It’s a big one, so I am just putting first few line of codes. We will run the simulation for 5 million times and estimate the probability for getting at least two of a kind."
   ]
  },
  {
   "cell_type": "code",
   "execution_count": 28,
   "metadata": {},
   "outputs": [],
   "source": [
    "deck_of_cards=[(\"Heart\",0),(\"Heart\",1),(\"Heart\",2),(\"Heart\",3),(\"Heart\",4),(\"Spade\",1),(\"Spade\",2),(\"Spade\",3),(\"Spade\",4)\n",
    "              ,(\"Diamond\",0),(\"Diamond\",1),(\"Diamond\",2),(\"Diamond\",3),(\"Diamond\",4),(\"clubs\",0),(\"clubs\",1),(\"clubs\",2)\n",
    "              ,(\"clubs\",3),(\"clubs\",4)]"
   ]
  },
  {
   "cell_type": "code",
   "execution_count": 29,
   "metadata": {},
   "outputs": [],
   "source": [
    "noOfIteration=5000000\n",
    "np.random.seed(111)\n",
    "Prob_of_getting_two_same_kind_cards=0\n",
    "for i in range(noOfIteration):\n",
    "    np.random.shuffle(deck_of_cards)\n",
    "    available_cards=deck_of_cards[0:5]\n",
    "    card_in_hand={}\n",
    "    for hand in available_cards:\n",
    "        card_in_hand[hand[1]] = card_in_hand.get(hand[1], 0) + 1\n",
    "        highest_card=max(card_in_hand.values())\n",
    "        if highest_card>=2:\n",
    "            Prob_of_getting_two_same_kind_cards+=1"
   ]
  },
  {
   "cell_type": "code",
   "execution_count": 34,
   "metadata": {},
   "outputs": [
    {
     "data": {
      "text/plain": [
       "{4: 2, 2: 1, 3: 1, 0: 1}"
      ]
     },
     "execution_count": 34,
     "metadata": {},
     "output_type": "execute_result"
    }
   ],
   "source": [
    "card_in_hand"
   ]
  },
  {
   "cell_type": "markdown",
   "metadata": {},
   "source": [
    "# Relative Frequency Probabilities"
   ]
  },
  {
   "cell_type": "markdown",
   "metadata": {},
   "source": [
    "Based on Probabilities\n",
    "\n",
    "Computed after Performing The Experiment\n",
    "\n",
    "Number of times of Event Occurs/Number of Trials\n",
    "\n",
    "Given On Identical Probabilities"
   ]
  },
  {
   "cell_type": "code",
   "execution_count": 2,
   "metadata": {},
   "outputs": [],
   "source": [
    "fruits = ['apple', 'apple', 'banana', 'orange', 'apple', 'apple', 'banana', 'banana', 'orange', 'banana', 'apple']\n",
    "import pandas as pd\n",
    "df = pd.DataFrame(data=fruits, columns=['Fruit'])"
   ]
  },
  {
   "cell_type": "code",
   "execution_count": 3,
   "metadata": {},
   "outputs": [
    {
     "data": {
      "text/html": [
       "<div>\n",
       "<style scoped>\n",
       "    .dataframe tbody tr th:only-of-type {\n",
       "        vertical-align: middle;\n",
       "    }\n",
       "\n",
       "    .dataframe tbody tr th {\n",
       "        vertical-align: top;\n",
       "    }\n",
       "\n",
       "    .dataframe thead th {\n",
       "        text-align: right;\n",
       "    }\n",
       "</style>\n",
       "<table border=\"1\" class=\"dataframe\">\n",
       "  <thead>\n",
       "    <tr style=\"text-align: right;\">\n",
       "      <th></th>\n",
       "      <th>Fruit</th>\n",
       "    </tr>\n",
       "  </thead>\n",
       "  <tbody>\n",
       "    <tr>\n",
       "      <th>0</th>\n",
       "      <td>apple</td>\n",
       "    </tr>\n",
       "    <tr>\n",
       "      <th>1</th>\n",
       "      <td>apple</td>\n",
       "    </tr>\n",
       "    <tr>\n",
       "      <th>2</th>\n",
       "      <td>banana</td>\n",
       "    </tr>\n",
       "    <tr>\n",
       "      <th>3</th>\n",
       "      <td>orange</td>\n",
       "    </tr>\n",
       "    <tr>\n",
       "      <th>4</th>\n",
       "      <td>apple</td>\n",
       "    </tr>\n",
       "    <tr>\n",
       "      <th>5</th>\n",
       "      <td>apple</td>\n",
       "    </tr>\n",
       "    <tr>\n",
       "      <th>6</th>\n",
       "      <td>banana</td>\n",
       "    </tr>\n",
       "    <tr>\n",
       "      <th>7</th>\n",
       "      <td>banana</td>\n",
       "    </tr>\n",
       "    <tr>\n",
       "      <th>8</th>\n",
       "      <td>orange</td>\n",
       "    </tr>\n",
       "    <tr>\n",
       "      <th>9</th>\n",
       "      <td>banana</td>\n",
       "    </tr>\n",
       "    <tr>\n",
       "      <th>10</th>\n",
       "      <td>apple</td>\n",
       "    </tr>\n",
       "  </tbody>\n",
       "</table>\n",
       "</div>"
      ],
      "text/plain": [
       "     Fruit\n",
       "0    apple\n",
       "1    apple\n",
       "2   banana\n",
       "3   orange\n",
       "4    apple\n",
       "5    apple\n",
       "6   banana\n",
       "7   banana\n",
       "8   orange\n",
       "9   banana\n",
       "10   apple"
      ]
     },
     "execution_count": 3,
     "metadata": {},
     "output_type": "execute_result"
    }
   ],
   "source": [
    "df"
   ]
  },
  {
   "cell_type": "code",
   "execution_count": 4,
   "metadata": {},
   "outputs": [],
   "source": [
    "freq={}\n",
    "for i in df[\"Fruit\"]:\n",
    "    if i in freq:\n",
    "        freq[i]+=1\n",
    "    else:\n",
    "        freq[i]=1"
   ]
  },
  {
   "cell_type": "code",
   "execution_count": 5,
   "metadata": {},
   "outputs": [
    {
     "data": {
      "text/plain": [
       "{'apple': 5, 'banana': 4, 'orange': 2}"
      ]
     },
     "execution_count": 5,
     "metadata": {},
     "output_type": "execute_result"
    }
   ],
   "source": [
    "freq"
   ]
  },
  {
   "cell_type": "code",
   "execution_count": 6,
   "metadata": {},
   "outputs": [],
   "source": [
    "#Suppose a scenario In which a person goes to buy a apple what probability is there that the person buys a apple"
   ]
  },
  {
   "cell_type": "code",
   "execution_count": 10,
   "metadata": {},
   "outputs": [],
   "source": [
    "total_freq=0\n",
    "for i in freq.values():\n",
    "    total_freq+=i"
   ]
  },
  {
   "cell_type": "code",
   "execution_count": 11,
   "metadata": {},
   "outputs": [
    {
     "data": {
      "text/plain": [
       "11"
      ]
     },
     "execution_count": 11,
     "metadata": {},
     "output_type": "execute_result"
    }
   ],
   "source": [
    "total_freq"
   ]
  },
  {
   "cell_type": "code",
   "execution_count": 12,
   "metadata": {},
   "outputs": [],
   "source": [
    "#Now Divide Total Freq with the freq you want to know the probability for"
   ]
  },
  {
   "cell_type": "code",
   "execution_count": 19,
   "metadata": {},
   "outputs": [
    {
     "data": {
      "text/plain": [
       "0.45454545454545453"
      ]
     },
     "execution_count": 19,
     "metadata": {},
     "output_type": "execute_result"
    }
   ],
   "source": [
    "def probability(dictt,value):\n",
    "    for i in dictt.items():\n",
    "        if i[0]==value:\n",
    "            PA=i[1]/total_freq\n",
    "        return PA\n",
    "probability(freq,\"apple\")"
   ]
  },
  {
   "cell_type": "code",
   "execution_count": 21,
   "metadata": {},
   "outputs": [
    {
     "data": {
      "text/plain": [
       "0.45454545454545453"
      ]
     },
     "execution_count": 21,
     "metadata": {},
     "output_type": "execute_result"
    }
   ],
   "source": [
    "#As we can see that there is a chance of buying apple is about 0.45 percent \n",
    "probability(freq,\"apple\")"
   ]
  },
  {
   "cell_type": "markdown",
   "metadata": {},
   "source": [
    "# Counting Possibilities"
   ]
  },
  {
   "cell_type": "code",
   "execution_count": 35,
   "metadata": {},
   "outputs": [],
   "source": [
    "#It is One Of the Important Technique use for counting possibilities"
   ]
  },
  {
   "cell_type": "markdown",
   "metadata": {},
   "source": [
    "# MN rules"
   ]
  },
  {
   "cell_type": "code",
   "execution_count": 36,
   "metadata": {},
   "outputs": [],
   "source": [
    "#Consider there are two coins toss unbiasedly so multiply there possible outcomes by this you get the total possible outcomes "
   ]
  },
  {
   "cell_type": "code",
   "execution_count": 39,
   "metadata": {},
   "outputs": [],
   "source": [
    "import math\n",
    "coin1=2 #(head or tails)\n",
    "coin2=2 #(Head or Tails)\n",
    "multiply=math.prod([coin1,coin2])"
   ]
  },
  {
   "cell_type": "code",
   "execution_count": 40,
   "metadata": {},
   "outputs": [
    {
     "data": {
      "text/plain": [
       "4"
      ]
     },
     "execution_count": 40,
     "metadata": {},
     "output_type": "execute_result"
    }
   ],
   "source": [
    "multiply"
   ]
  },
  {
   "cell_type": "markdown",
   "metadata": {},
   "source": [
    "# Sampling From a population with Replacement"
   ]
  },
  {
   "cell_type": "code",
   "execution_count": 58,
   "metadata": {},
   "outputs": [
    {
     "name": "stdout",
     "output_type": "stream",
     "text": [
      "4\n",
      "3\n"
     ]
    }
   ],
   "source": [
    "a=4\n",
    "for i in range(a,2,-1):\n"
   ]
  },
  {
   "cell_type": "code",
   "execution_count": null,
   "metadata": {},
   "outputs": [],
   "source": []
  },
  {
   "cell_type": "code",
   "execution_count": null,
   "metadata": {},
   "outputs": [],
   "source": []
  },
  {
   "cell_type": "code",
   "execution_count": null,
   "metadata": {},
   "outputs": [],
   "source": []
  },
  {
   "cell_type": "code",
   "execution_count": null,
   "metadata": {},
   "outputs": [],
   "source": []
  },
  {
   "cell_type": "code",
   "execution_count": null,
   "metadata": {},
   "outputs": [],
   "source": []
  }
 ],
 "metadata": {
  "kernelspec": {
   "display_name": "Python 3",
   "language": "python",
   "name": "python3"
  },
  "language_info": {
   "codemirror_mode": {
    "name": "ipython",
    "version": 3
   },
   "file_extension": ".py",
   "mimetype": "text/x-python",
   "name": "python",
   "nbconvert_exporter": "python",
   "pygments_lexer": "ipython3",
   "version": "3.8.5"
  }
 },
 "nbformat": 4,
 "nbformat_minor": 4
}
